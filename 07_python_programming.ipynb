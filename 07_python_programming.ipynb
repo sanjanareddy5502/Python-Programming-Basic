{
 "cells": [
  {
   "cell_type": "markdown",
   "id": "6f4e3170-3441-4f19-aa4d-96d2532acc71",
   "metadata": {},
   "source": [
    "python programming assignment - 07"
   ]
  },
  {
   "cell_type": "code",
   "execution_count": 2,
   "id": "9bfbcb09-cda7-4610-9fb3-5a4edc287b16",
   "metadata": {},
   "outputs": [
    {
     "name": "stdin",
     "output_type": "stream",
     "text": [
      "Enter the Array:  [1,2,3,4,5]\n"
     ]
    },
    {
     "name": "stdout",
     "output_type": "stream",
     "text": [
      "The sum of [1, 2, 3, 4, 5] is 15\n"
     ]
    }
   ],
   "source": [
    "#1. Write a Python Program to find sum of Array ?\n",
    "def sumOfArray():\n",
    "    in_arr = eval(input(\"Enter the Array: \"))\n",
    "    print(f'The sum of {in_arr} is {sum(in_arr)}')\n",
    "\n",
    "sumOfArray()"
   ]
  },
  {
   "cell_type": "code",
   "execution_count": 3,
   "id": "b4bdd1c8-a87f-4435-9964-d7ffb504d672",
   "metadata": {},
   "outputs": [
    {
     "name": "stdin",
     "output_type": "stream",
     "text": [
      "Enter the Array:  [1,2,3,4,5]\n"
     ]
    },
    {
     "name": "stdout",
     "output_type": "stream",
     "text": [
      "The Largest Element in [1, 2, 3, 4, 5] is 5\n"
     ]
    }
   ],
   "source": [
    "#2. Write a Python Program to find Largest element in an Array ?\n",
    "def largestElement():\n",
    "    in_arr = eval(input(\"Enter the Array: \"))\n",
    "    print(f\"The Largest Element in {in_arr} is {sorted(in_arr, reverse=True)[0]}\")\n",
    "    \n",
    "largestElement()"
   ]
  },
  {
   "cell_type": "code",
   "execution_count": 4,
   "id": "2cd386ce-238a-4d7f-a184-0d4233f52dba",
   "metadata": {},
   "outputs": [
    {
     "name": "stdin",
     "output_type": "stream",
     "text": [
      "Enter the Array:  [1,2,3,4,5]\n"
     ]
    },
    {
     "name": "stdout",
     "output_type": "stream",
     "text": [
      "The Reverse of Array [1, 2, 3, 4, 5] is [5, 4, 3, 2, 1]\n"
     ]
    }
   ],
   "source": [
    "#3. Write a Python Program for array rotation ?\n",
    "def reverseOfArray():\n",
    "    in_arr = eval(input(\"Enter the Array: \"))\n",
    "    print(f\"The Reverse of Array {in_arr} is {in_arr[::-1]}\")\n",
    "    \n",
    "reverseOfArray()"
   ]
  },
  {
   "cell_type": "code",
   "execution_count": 5,
   "id": "ecedc929-6448-4e6d-8394-0fc23f8c92c6",
   "metadata": {},
   "outputs": [
    {
     "name": "stdin",
     "output_type": "stream",
     "text": [
      "Enter the Array:  [1,2,3,4,5]\n"
     ]
    },
    {
     "name": "stdout",
     "output_type": "stream",
     "text": [
      "The Sum of First and Last Elements of Array [1, 2, 3, 4, 5] is 6\n"
     ]
    }
   ],
   "source": [
    "#4. Write a Python Program to Split the array and add the first part to the end ?\n",
    "def sumOfSplits():\n",
    "    in_arr = eval(input(\"Enter the Array: \"))\n",
    "    print(f\"The Sum of First and Last Elements of Array {in_arr} is {in_arr[0]+in_arr[-1]}\")\n",
    "    \n",
    "sumOfSplits()"
   ]
  },
  {
   "cell_type": "code",
   "execution_count": 6,
   "id": "a8a03723-1a94-4143-b443-a400241e2900",
   "metadata": {},
   "outputs": [
    {
     "name": "stdin",
     "output_type": "stream",
     "text": [
      "Enter the Array:  [1,2,3,4,5]\n"
     ]
    },
    {
     "name": "stdout",
     "output_type": "stream",
     "text": [
      "Array [1, 2, 3, 4, 5] is Monotonic\n"
     ]
    },
    {
     "name": "stdin",
     "output_type": "stream",
     "text": [
      "Enter the Array:  4,3,8,6,5\n"
     ]
    },
    {
     "name": "stdout",
     "output_type": "stream",
     "text": [
      "Array (4, 3, 8, 6, 5) is Not Monotonic\n"
     ]
    }
   ],
   "source": [
    "#5. Write a Python Program to check if given array is Monotonic ?\n",
    "def checkMonotonic():\n",
    "    in_arr = eval(input(\"Enter the Array: \"))\n",
    "    if(all(in_arr[i]<=in_arr[i+1] for i in range(len(in_arr)-1)) or all(in_arr[i]>=in_arr[i+1] for i in range(len(in_arr)-1))):\n",
    "        print(f'Array {in_arr} is Monotonic')\n",
    "    else:\n",
    "        print(f'Array {in_arr} is Not Monotonic')\n",
    "\n",
    "checkMonotonic()\n",
    "checkMonotonic()"
   ]
  },
  {
   "cell_type": "code",
   "execution_count": null,
   "id": "38cdaded-cbe3-49e2-9ad8-f01abbe384c4",
   "metadata": {},
   "outputs": [],
   "source": []
  }
 ],
 "metadata": {
  "kernelspec": {
   "display_name": "Python 3 (ipykernel)",
   "language": "python",
   "name": "python3"
  },
  "language_info": {
   "codemirror_mode": {
    "name": "ipython",
    "version": 3
   },
   "file_extension": ".py",
   "mimetype": "text/x-python",
   "name": "python",
   "nbconvert_exporter": "python",
   "pygments_lexer": "ipython3",
   "version": "3.10.6"
  }
 },
 "nbformat": 4,
 "nbformat_minor": 5
}
