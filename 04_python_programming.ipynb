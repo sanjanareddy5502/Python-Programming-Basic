{
 "cells": [
  {
   "cell_type": "markdown",
   "id": "a25575c7-3a5b-4fa1-85ed-fc399fe828fd",
   "metadata": {},
   "source": [
    "python programming assignment - 04"
   ]
  },
  {
   "cell_type": "code",
   "execution_count": 1,
   "id": "000dea44-8369-4b70-ba5d-8c29e6100dbd",
   "metadata": {},
   "outputs": [
    {
     "name": "stdin",
     "output_type": "stream",
     "text": [
      "Enter a number:  69\n"
     ]
    },
    {
     "name": "stdout",
     "output_type": "stream",
     "text": [
      "The Factorial of 69 is 171122452428141311372468338881272839092270544893520369393648040923257279754140647424000000000000000\n"
     ]
    }
   ],
   "source": [
    "#1.Write a Python Program to find the factorial of a number ?\n",
    "def factorial(num):\n",
    "    if (num < 1):\n",
    "        return 1\n",
    "    else:\n",
    "        return num*factorial(num-1)\n",
    "num = int(input('Enter a number: '))\n",
    "value = factorial(num)\n",
    "print(f'The Factorial of {num} is {value}')"
   ]
  },
  {
   "cell_type": "code",
   "execution_count": 2,
   "id": "70315ec1-d8fb-495c-9def-e658ecfc3860",
   "metadata": {},
   "outputs": [
    {
     "name": "stdin",
     "output_type": "stream",
     "text": [
      "Enter a number:  69\n",
      "Enter no of entries:  69\n"
     ]
    },
    {
     "name": "stdout",
     "output_type": "stream",
     "text": [
      "69 X 1 = 69\n",
      "69 X 2 = 138\n",
      "69 X 3 = 207\n",
      "69 X 4 = 276\n",
      "69 X 5 = 345\n",
      "69 X 6 = 414\n",
      "69 X 7 = 483\n",
      "69 X 8 = 552\n",
      "69 X 9 = 621\n",
      "69 X 10 = 690\n",
      "69 X 11 = 759\n",
      "69 X 12 = 828\n",
      "69 X 13 = 897\n",
      "69 X 14 = 966\n",
      "69 X 15 = 1035\n",
      "69 X 16 = 1104\n",
      "69 X 17 = 1173\n",
      "69 X 18 = 1242\n",
      "69 X 19 = 1311\n",
      "69 X 20 = 1380\n",
      "69 X 21 = 1449\n",
      "69 X 22 = 1518\n",
      "69 X 23 = 1587\n",
      "69 X 24 = 1656\n",
      "69 X 25 = 1725\n",
      "69 X 26 = 1794\n",
      "69 X 27 = 1863\n",
      "69 X 28 = 1932\n",
      "69 X 29 = 2001\n",
      "69 X 30 = 2070\n",
      "69 X 31 = 2139\n",
      "69 X 32 = 2208\n",
      "69 X 33 = 2277\n",
      "69 X 34 = 2346\n",
      "69 X 35 = 2415\n",
      "69 X 36 = 2484\n",
      "69 X 37 = 2553\n",
      "69 X 38 = 2622\n",
      "69 X 39 = 2691\n",
      "69 X 40 = 2760\n",
      "69 X 41 = 2829\n",
      "69 X 42 = 2898\n",
      "69 X 43 = 2967\n",
      "69 X 44 = 3036\n",
      "69 X 45 = 3105\n",
      "69 X 46 = 3174\n",
      "69 X 47 = 3243\n",
      "69 X 48 = 3312\n",
      "69 X 49 = 3381\n",
      "69 X 50 = 3450\n",
      "69 X 51 = 3519\n",
      "69 X 52 = 3588\n",
      "69 X 53 = 3657\n",
      "69 X 54 = 3726\n",
      "69 X 55 = 3795\n",
      "69 X 56 = 3864\n",
      "69 X 57 = 3933\n",
      "69 X 58 = 4002\n",
      "69 X 59 = 4071\n",
      "69 X 60 = 4140\n",
      "69 X 61 = 4209\n",
      "69 X 62 = 4278\n",
      "69 X 63 = 4347\n",
      "69 X 64 = 4416\n",
      "69 X 65 = 4485\n",
      "69 X 66 = 4554\n",
      "69 X 67 = 4623\n",
      "69 X 68 = 4692\n",
      "69 X 69 = 4761\n"
     ]
    }
   ],
   "source": [
    "#2.Write a Python Program to display the multiplication table ?\n",
    "def generateTable(base,entries):\n",
    "    for x in range(1,entries+1):\n",
    "        print(f'{base} X {x} = {base*x}')\n",
    "\n",
    "num = int(input('Enter a number: '))\n",
    "values = int(input('Enter no of entries: '))\n",
    "generateTable(num,values)"
   ]
  },
  {
   "cell_type": "code",
   "execution_count": 3,
   "id": "87e18f17-4401-48ba-afd4-e92bf5c3f834",
   "metadata": {},
   "outputs": [
    {
     "name": "stdin",
     "output_type": "stream",
     "text": [
      "Enter the no of fibonacci sequences you want?  69\n"
     ]
    },
    {
     "name": "stdout",
     "output_type": "stream",
     "text": [
      "The First 69 fibonacci series are:  [0, 1, 1, 2, 3, 5, 8, 13, 21, 34, 55, 89, 144, 233, 377, 610, 987, 1597, 2584, 4181, 6765, 10946, 17711, 28657, 46368, 75025, 121393, 196418, 317811, 514229, 832040, 1346269, 2178309, 3524578, 5702887, 9227465, 14930352, 24157817, 39088169, 63245986, 102334155, 165580141, 267914296, 433494437, 701408733, 1134903170, 1836311903, 2971215073, 4807526976, 7778742049, 12586269025, 20365011074, 32951280099, 53316291173, 86267571272, 139583862445, 225851433717, 365435296162, 591286729879, 956722026041, 1548008755920, 2504730781961, 4052739537881, 6557470319842, 10610209857723, 17167680177565, 27777890035288, 44945570212853, 72723460248141]\n"
     ]
    }
   ],
   "source": [
    "#3.Write a Python Program to print the fibonacci sequence ?\n",
    "s_count = int(input('Enter the no of fibonacci sequences you want? '))\n",
    "initial_list = [0,1]\n",
    "if s_count < 0:\n",
    "    print('Fibonacci Numbers are not available for Negative Numbers')\n",
    "elif s_count <= 2 and s_count >= 0:\n",
    "    print(initial_list)\n",
    "else:\n",
    "    for ins in range(s_count):\n",
    "        if ins >= 2:\n",
    "            initial_list.append(initial_list[ins-1]+initial_list[ins-2])\n",
    "    print(f'The First {s_count} fibonacci series are: ',initial_list)"
   ]
  },
  {
   "cell_type": "code",
   "execution_count": 4,
   "id": "befee6ef-3301-4c51-8817-f5646ee1fcf5",
   "metadata": {},
   "outputs": [
    {
     "name": "stdin",
     "output_type": "stream",
     "text": [
      "Enter a number:  69\n"
     ]
    },
    {
     "name": "stdout",
     "output_type": "stream",
     "text": [
      "69 is a Not Armstrong Number\n"
     ]
    },
    {
     "name": "stdin",
     "output_type": "stream",
     "text": [
      "Enter a number:  96\n"
     ]
    },
    {
     "name": "stdout",
     "output_type": "stream",
     "text": [
      "96 is a Not Armstrong Number\n"
     ]
    }
   ],
   "source": [
    "#4.Write a Python Program to check Armstrong number ?\n",
    "def checkArmstrongNumber():\n",
    "    in_num = input('Enter a number: ')\n",
    "    sum = 0\n",
    "    for char in range(len(in_num)):\n",
    "        sum = sum + pow(int(in_num[char]),3)\n",
    "    if sum == int(in_num):\n",
    "        print(f'{in_num} is a Armstrong Number')\n",
    "    else:\n",
    "        print(f'{in_num} is a Not Armstrong Number')\n",
    "\n",
    "for x in range(2):\n",
    "    checkArmstrongNumber()"
   ]
  },
  {
   "cell_type": "code",
   "execution_count": null,
   "id": "d2a017c4-8b61-48bc-b996-4852c6c7da18",
   "metadata": {},
   "outputs": [],
   "source": [
    "#5.Write a Python Program to Find Armstrong number in an interval ?\n",
    "def checkArmstrongNumber(in_num, storage):\n",
    "    sum = 0\n",
    "    for char in range(len(in_num)):\n",
    "        sum = sum + pow(int(in_num[char]),3)\n",
    "    if sum == int(in_num):\n",
    "        storage.append(int(in_num))\n",
    "\n",
    "start_interval = int(input('Enter the Start of the Interval: '))\n",
    "end_interval = int(input('Enter the End of the Interval: '))\n",
    "list_of_armstrong = []\n",
    "\n",
    "if start_interval > end_interval:\n",
    "    print(\"Start Interval Cannot be Greater than End Interval\")\n",
    "else:\n",
    "    for number in range(start_interval,end_interval+1):\n",
    "        checkArmstrongNumber(str(number),list_of_armstrong)\n",
    "    print(f'The Armstrong numbers between {start_interval} and {end_interval} are {list_of_armstrong}')\n"
   ]
  },
  {
   "cell_type": "code",
   "execution_count": null,
   "id": "6739e51a-628b-4f39-a4df-924080940870",
   "metadata": {},
   "outputs": [],
   "source": [
    "#6.Write a Python Program to sum of natural numbers ?\n",
    "def sumOfNaturalNumbers(num):\n",
    "    sum = num*((num+1)/2)\n",
    "    print(f'Sum of {num} natural numbers is {sum}')\n",
    "    \n",
    "num = int(input('Enter a number: '))\n",
    "sumOfNaturalNumbers(num)"
   ]
  },
  {
   "cell_type": "code",
   "execution_count": null,
   "id": "4dd57ff6-c50a-4e52-8736-bfcf6161bf4f",
   "metadata": {},
   "outputs": [],
   "source": []
  }
 ],
 "metadata": {
  "kernelspec": {
   "display_name": "Python 3 (ipykernel)",
   "language": "python",
   "name": "python3"
  },
  "language_info": {
   "codemirror_mode": {
    "name": "ipython",
    "version": 3
   },
   "file_extension": ".py",
   "mimetype": "text/x-python",
   "name": "python",
   "nbconvert_exporter": "python",
   "pygments_lexer": "ipython3",
   "version": "3.10.6"
  }
 },
 "nbformat": 4,
 "nbformat_minor": 5
}
