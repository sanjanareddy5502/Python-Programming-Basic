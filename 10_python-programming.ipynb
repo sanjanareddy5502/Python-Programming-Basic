{
 "cells": [
  {
   "cell_type": "markdown",
   "id": "38919da6-6640-44c0-9a91-2cf85224d896",
   "metadata": {},
   "source": [
    "python programming assignment - 10"
   ]
  },
  {
   "cell_type": "code",
   "execution_count": 2,
   "id": "3a44833f-fb1b-4718-ad6a-f61b811b1277",
   "metadata": {},
   "outputs": [
    {
     "name": "stdin",
     "output_type": "stream",
     "text": [
      "Enter the No of Entries in a List:  5\n",
      "Enter a element:  1\n",
      "Enter a element:  2\n",
      "Enter a element:  3\n",
      "Enter a element:  5\n",
      "Enter a element:  6\n"
     ]
    },
    {
     "name": "stdout",
     "output_type": "stream",
     "text": [
      "Sum of Elements: 17\n"
     ]
    }
   ],
   "source": [
    "#1.Write a Python Program to find sum of elements in a list ?\n",
    "def sumofList():\n",
    "    in_ele = int(input('Enter the No of Entries in a List: '))\n",
    "    in_list = []\n",
    "    for itr in range(in_ele):\n",
    "        in_list.append(int(input('Enter a element: ')))\n",
    "    print(f'Sum of Elements: {sum(in_list)}')\n",
    "\n",
    "sumofList()"
   ]
  },
  {
   "cell_type": "code",
   "execution_count": 3,
   "id": "08b8925e-1457-40fa-a48d-49da5dab6a7c",
   "metadata": {},
   "outputs": [
    {
     "name": "stdin",
     "output_type": "stream",
     "text": [
      "Enter the No of Entries in a List:  5\n",
      "Enter a element:  2\n",
      "Enter a element:  5\n",
      "Enter a element:  8\n",
      "Enter a element:  9\n",
      "Enter a element:  7\n"
     ]
    },
    {
     "name": "stdout",
     "output_type": "stream",
     "text": [
      "5040\n"
     ]
    }
   ],
   "source": [
    "#2.Write a Python Program to multiply all numbers in the list ?\n",
    "def mulofList():\n",
    "    in_ele = int(input('Enter the No of Entries in a List: '))\n",
    "    in_list = []\n",
    "    mul = 1\n",
    "    for itr in range(in_ele):\n",
    "        in_list.append(int(input('Enter a element: ')))\n",
    "    for ele in in_list:\n",
    "        mul = mul * ele\n",
    "    print(mul)\n",
    "\n",
    "mulofList()"
   ]
  },
  {
   "cell_type": "code",
   "execution_count": 4,
   "id": "a586a87d-eb24-451b-85b2-1f216fa426ee",
   "metadata": {},
   "outputs": [
    {
     "name": "stdin",
     "output_type": "stream",
     "text": [
      "Enter the No of elements in a list:  5\n",
      "Enter a Element:  1\n",
      "Enter a Element:  2\n",
      "Enter a Element:  3\n",
      "Enter a Element:  4\n",
      "Enter a Element:  5\n"
     ]
    },
    {
     "name": "stdout",
     "output_type": "stream",
     "text": [
      "The Smallest Element in [1, 2, 3, 4, 5] is 1\n"
     ]
    }
   ],
   "source": [
    "#3.Write a Python Program to find smallest number in the list ?\n",
    "def smallEleInList():\n",
    "    in_ele = int(input('Enter the No of elements in a list: '))\n",
    "    in_list = []\n",
    "    for ele in range(in_ele):\n",
    "        in_list.append(int(input('Enter a Element: ')))\n",
    "    print(f'The Smallest Element in {in_list} is {sorted(in_list)[0]}')\n",
    "smallEleInList()"
   ]
  },
  {
   "cell_type": "code",
   "execution_count": 5,
   "id": "d5bcda63-a202-426e-a18a-6ce1981664fb",
   "metadata": {},
   "outputs": [
    {
     "name": "stdin",
     "output_type": "stream",
     "text": [
      "Enter the No of elements in a list:  15\n",
      "Enter a Element:  1\n",
      "Enter a Element:  2\n",
      "Enter a Element:  3\n",
      "Enter a Element:  4\n",
      "Enter a Element:  5\n",
      "Enter a Element:  6\n",
      "Enter a Element:  7\n",
      "Enter a Element:  8\n",
      "Enter a Element:  9\n",
      "Enter a Element:  10\n",
      "Enter a Element:  11\n",
      "Enter a Element:  12\n",
      "Enter a Element:  13\n",
      "Enter a Element:  14\n",
      "Enter a Element:  15\n"
     ]
    },
    {
     "name": "stdout",
     "output_type": "stream",
     "text": [
      "The Largest Element in [1, 2, 3, 4, 5, 6, 7, 8, 9, 10, 11, 12, 13, 14, 15] is 15\n"
     ]
    }
   ],
   "source": [
    "#4.Write a Python Program to find largest number in the list ?\n",
    "def largestEleInList():\n",
    "    in_ele = int(input('Enter the No of elements in a list: '))\n",
    "    in_list = []\n",
    "    for ele in range(in_ele):\n",
    "        in_list.append(int(input('Enter a Element: ')))\n",
    "    print(f'The Largest Element in {in_list} is {sorted(in_list, reverse=True)[0]}')\n",
    "\n",
    "largestEleInList()"
   ]
  },
  {
   "cell_type": "code",
   "execution_count": 6,
   "id": "9cfae74c-139e-4c46-8ecb-8a35fa810172",
   "metadata": {},
   "outputs": [
    {
     "name": "stdin",
     "output_type": "stream",
     "text": [
      "Enter the No of elements in a list:  5\n",
      "Enter a Element:  1\n",
      "Enter a Element:  2\n",
      "Enter a Element:  3\n",
      "Enter a Element:  4\n",
      "Enter a Element:  5\n"
     ]
    },
    {
     "name": "stdout",
     "output_type": "stream",
     "text": [
      "The Second Largest Element in [1, 2, 3, 4, 5] is 4\n"
     ]
    }
   ],
   "source": [
    "#5.Write a Python Program to find second largest number in the list ?\n",
    "def secondLargestEleInList():\n",
    "    in_ele = int(input('Enter the No of elements in a list: '))\n",
    "    in_list = []\n",
    "    for ele in range(in_ele):\n",
    "        in_list.append(int(input('Enter a Element: ')))\n",
    "    print(f'The Second Largest Element in {in_list} is {sorted(in_list, reverse=True)[1]}')\n",
    "\n",
    "secondLargestEleInList()"
   ]
  },
  {
   "cell_type": "code",
   "execution_count": 8,
   "id": "108ecca6-97b9-4fc4-ad9c-601ab7edb701",
   "metadata": {},
   "outputs": [
    {
     "name": "stdin",
     "output_type": "stream",
     "text": [
      "Enter the No of elements in a list:  5\n",
      "Enter a Element:  1\n",
      "Enter a Element:  2\n",
      "Enter a Element:  2\n",
      "Enter a Element:  3\n",
      "Enter a Element:  4\n"
     ]
    },
    {
     "name": "stdout",
     "output_type": "stream",
     "text": [
      "The 4 Largest Element in [1, 2, 2, 3, 4] is [4, 3, 2, 2]\n"
     ]
    }
   ],
   "source": [
    "#6.Write a Python Program to find N largest elements in the list ?\n",
    "def nLargestEleInList(k):\n",
    "    in_ele = int(input('Enter the No of elements in a list: '))\n",
    "    in_list = []\n",
    "    for ele in range(in_ele):\n",
    "        in_list.append(int(input('Enter a Element: ')))\n",
    "    print(f'The {k} Largest Element in {in_list} is {sorted(in_list, reverse=True)[0:k]}')\n",
    "\n",
    "nLargestEleInList(4)"
   ]
  },
  {
   "cell_type": "code",
   "execution_count": null,
   "id": "ce47f550-db72-486a-bf86-d6cd01ed4b6e",
   "metadata": {},
   "outputs": [],
   "source": [
    "7.Write a Python Program to find even numbers in the list ?\n",
    "def evenNoInList():\n",
    "    in_ele = int(input('Enter the No of elements in a list: '))\n",
    "    in_list = []\n",
    "    even_list = []\n",
    "    for ele in range(in_ele):\n",
    "        in_list.append(int(input('Enter a Element: ')))\n",
    "    for ele in in_list:\n",
    "        if ele%2 == 0:\n",
    "            even_list.append(ele)\n",
    "    print(f'The Even Elements in {in_list} are {even_list}')\n",
    "\n",
    "evenNoInList()"
   ]
  },
  {
   "cell_type": "code",
   "execution_count": null,
   "id": "6328bfcc-081b-404c-9c35-6dc7a761e285",
   "metadata": {},
   "outputs": [],
   "source": [
    "#8.Write a Python Program to find odd numbers in the list ?\n",
    "def oddNoInList():\n",
    "    in_ele = int(input('Enter the No of elements in a list: '))\n",
    "    in_list = []\n",
    "    odd_list = []\n",
    "    for ele in range(in_ele):\n",
    "        in_list.append(int(input('Enter a Element: ')))\n",
    "    for ele in in_list:\n",
    "        if ele%2 != 0:\n",
    "            odd_list.append(ele)\n",
    "    print(f'The Even Elements in {in_list} are {odd_list}')\n",
    "\n",
    "oddNoInList()"
   ]
  },
  {
   "cell_type": "code",
   "execution_count": null,
   "id": "e94cb268-c70c-4e6e-85a2-675f8b61ae72",
   "metadata": {},
   "outputs": [],
   "source": [
    "#9.Write a Python Program to remove empty list from list ?\n",
    "def checkEmptyList():\n",
    "    in_list = eval(input('Enter all elements of the list: '))\n",
    "    if [] in in_list:\n",
    "        print(f'There is an Empty list in {in_list} at Position {in_list.index([])}')\n",
    "        in_list.remove([])\n",
    "        print(f'The List after removing [] is {in_list}')\n",
    "    else:\n",
    "        print(f'There is no [] List in the list {in_list}')\n",
    "        \n",
    "checkEmptyList()"
   ]
  },
  {
   "cell_type": "code",
   "execution_count": null,
   "id": "105eef0a-132d-4619-a349-14af35f578f8",
   "metadata": {},
   "outputs": [],
   "source": [
    "#10.Write a Python Program to Cloning or Copying a list ?\n",
    "import copy\n",
    "\n",
    "def cloneList():\n",
    "    in_list = eval(input('Enter a list'))\n",
    "    print(in_list, id(in_list))\n",
    "    cloned_list = in_list.copy()\n",
    "    print(cloned_list, id(cloned_list))\n",
    "\n",
    "cloneList()"
   ]
  },
  {
   "cell_type": "code",
   "execution_count": null,
   "id": "515fd219-04e7-430b-9316-9eb708ea0454",
   "metadata": {},
   "outputs": [],
   "source": [
    "#11.Write a Python Program to count occurences of an element in a list ?\n",
    "def checkOccurence():\n",
    "    in_list = eval(input('Enter the elements of the list: '))\n",
    "    in_num = eval(input('Enter the element to find: '))\n",
    "    count = 0\n",
    "    if in_num in in_list:\n",
    "        for ele in in_list:\n",
    "            if ele == in_num:\n",
    "                count = count+1\n",
    "    print(f'There are {count} occurences of {in_num} in {in_list}')\n",
    "    "
   ]
  }
 ],
 "metadata": {
  "kernelspec": {
   "display_name": "Python 3 (ipykernel)",
   "language": "python",
   "name": "python3"
  },
  "language_info": {
   "codemirror_mode": {
    "name": "ipython",
    "version": 3
   },
   "file_extension": ".py",
   "mimetype": "text/x-python",
   "name": "python",
   "nbconvert_exporter": "python",
   "pygments_lexer": "ipython3",
   "version": "3.10.6"
  }
 },
 "nbformat": 4,
 "nbformat_minor": 5
}
